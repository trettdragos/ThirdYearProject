{
 "cells": [
  {
   "cell_type": "code",
   "execution_count": 3,
   "metadata": {
    "collapsed": true
   },
   "outputs": [],
   "source": [
    "import cv2\n",
    "\n",
    "width = 640\n",
    "height = 360\n",
    "cap = cv2.VideoCapture('input_video.mkv')\n",
    "fps = cap.get(cv2.CAP_PROP_FPS)\n",
    "fourcc = cv2.VideoWriter_fourcc(*'mp4v')\n",
    "out = cv2.VideoWriter('input_video_rgb.mp4', fourcc, fps, (width, height), isColor=True)\n",
    "if not cap.isOpened():\n",
    "    print(\"Error: could not open video file\")\n",
    "ret, first_frame = cap.read()\n",
    "if not ret:\n",
    "    print(\"Error: could not read first frame\")\n",
    "    exit()\n",
    "frame_count = 0\n",
    "while cap.isOpened():\n",
    "    if frame_count > 5600:\n",
    "        break\n",
    "\n",
    "    ret, middle_frame = cap.read()\n",
    "    if not ret:\n",
    "        break\n",
    "    ret, last_frame = cap.read()\n",
    "    if not ret:\n",
    "        break\n",
    "\n",
    "    frame_count += 2\n",
    "    if frame_count < 3600:\n",
    "        first_frame = last_frame\n",
    "        continue\n",
    "\n",
    "    # Process the batch of 3 frames here\n",
    "    f1 = cv2.cvtColor(cv2.resize(first_frame, (width, height)), cv2.COLOR_BGR2RGB)\n",
    "    f1 = cv2.resize(first_frame, (width, height))\n",
    "    f2 = cv2.cvtColor(cv2.resize(middle_frame, (width, height)), cv2.COLOR_BGR2RGB)\n",
    "    f2 = cv2.resize(middle_frame, (width, height))\n",
    "    # f3 = cv2.cvtColor(cv2.resize(last_frame, (width, height)), cv2.COLOR_BGR2RGB)\n",
    "    # f3 = cv2.resize(last_frame, (width, height))\n",
    "    # batch_of_frames = [f1, f2, f3]\n",
    "    # self.entries.append(batch_of_frames)\n",
    "    # self.len_entries = self.len_entries + 1\n",
    "\n",
    "    # Display the batch of frames\n",
    "    # cv2.imshow('batch_of_frames', cv2.hconcat(batch_of_frames))\n",
    "\n",
    "    # save to file\n",
    "    # out.write(cv2.hconcat([f1, f1]))\n",
    "    out.write(f1)\n",
    "    out.write(f2)\n",
    "    # Update the previous frames\n",
    "    first_frame = last_frame\n",
    "cap.release()\n",
    "out.release()"
   ]
  },
  {
   "cell_type": "code",
   "execution_count": null,
   "outputs": [],
   "source": [],
   "metadata": {
    "collapsed": false
   }
  }
 ],
 "metadata": {
  "kernelspec": {
   "display_name": "Python 3",
   "language": "python",
   "name": "python3"
  },
  "language_info": {
   "codemirror_mode": {
    "name": "ipython",
    "version": 2
   },
   "file_extension": ".py",
   "mimetype": "text/x-python",
   "name": "python",
   "nbconvert_exporter": "python",
   "pygments_lexer": "ipython2",
   "version": "2.7.6"
  }
 },
 "nbformat": 4,
 "nbformat_minor": 0
}
