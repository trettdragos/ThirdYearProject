{
 "cells": [
  {
   "cell_type": "code",
   "execution_count": 1,
   "metadata": {
    "collapsed": true
   },
   "outputs": [
    {
     "name": "stdout",
     "output_type": "stream",
     "text": [
      "Downloading http://yann.lecun.com/exdb/mnist/train-images-idx3-ubyte.gz\n",
      "Downloading http://yann.lecun.com/exdb/mnist/train-images-idx3-ubyte.gz to ./data\\MNIST\\raw\\train-images-idx3-ubyte.gz\n"
     ]
    },
    {
     "data": {
      "text/plain": "  0%|          | 0/9912422 [00:00<?, ?it/s]",
      "application/vnd.jupyter.widget-view+json": {
       "version_major": 2,
       "version_minor": 0,
       "model_id": "3cba49cb9c924c7e99a7ce4a6824e090"
      }
     },
     "metadata": {},
     "output_type": "display_data"
    },
    {
     "name": "stdout",
     "output_type": "stream",
     "text": [
      "Extracting ./data\\MNIST\\raw\\train-images-idx3-ubyte.gz to ./data\\MNIST\\raw\n",
      "\n",
      "Downloading http://yann.lecun.com/exdb/mnist/train-labels-idx1-ubyte.gz\n",
      "Downloading http://yann.lecun.com/exdb/mnist/train-labels-idx1-ubyte.gz to ./data\\MNIST\\raw\\train-labels-idx1-ubyte.gz\n"
     ]
    },
    {
     "data": {
      "text/plain": "  0%|          | 0/28881 [00:00<?, ?it/s]",
      "application/vnd.jupyter.widget-view+json": {
       "version_major": 2,
       "version_minor": 0,
       "model_id": "9df2e541ac8240d0b3d0475c3b75484e"
      }
     },
     "metadata": {},
     "output_type": "display_data"
    },
    {
     "name": "stdout",
     "output_type": "stream",
     "text": [
      "Extracting ./data\\MNIST\\raw\\train-labels-idx1-ubyte.gz to ./data\\MNIST\\raw\n",
      "\n",
      "Downloading http://yann.lecun.com/exdb/mnist/t10k-images-idx3-ubyte.gz\n",
      "Downloading http://yann.lecun.com/exdb/mnist/t10k-images-idx3-ubyte.gz to ./data\\MNIST\\raw\\t10k-images-idx3-ubyte.gz\n"
     ]
    },
    {
     "data": {
      "text/plain": "  0%|          | 0/1648877 [00:00<?, ?it/s]",
      "application/vnd.jupyter.widget-view+json": {
       "version_major": 2,
       "version_minor": 0,
       "model_id": "a55ad22ef00340909ae361d17f513445"
      }
     },
     "metadata": {},
     "output_type": "display_data"
    },
    {
     "name": "stdout",
     "output_type": "stream",
     "text": [
      "Extracting ./data\\MNIST\\raw\\t10k-images-idx3-ubyte.gz to ./data\\MNIST\\raw\n",
      "\n",
      "Downloading http://yann.lecun.com/exdb/mnist/t10k-labels-idx1-ubyte.gz\n",
      "Downloading http://yann.lecun.com/exdb/mnist/t10k-labels-idx1-ubyte.gz to ./data\\MNIST\\raw\\t10k-labels-idx1-ubyte.gz\n"
     ]
    },
    {
     "data": {
      "text/plain": "  0%|          | 0/4542 [00:00<?, ?it/s]",
      "application/vnd.jupyter.widget-view+json": {
       "version_major": 2,
       "version_minor": 0,
       "model_id": "986381decbc54d3398e27b8a91048edf"
      }
     },
     "metadata": {},
     "output_type": "display_data"
    },
    {
     "name": "stdout",
     "output_type": "stream",
     "text": [
      "Extracting ./data\\MNIST\\raw\\t10k-labels-idx1-ubyte.gz to ./data\\MNIST\\raw\n",
      "\n",
      "Epoch [1/10], Batch [1/469], Loss: 549.2940\n",
      "Epoch [1/10], Batch [101/469], Loss: 192.5926\n",
      "Epoch [1/10], Batch [201/469], Loss: 157.3862\n",
      "Epoch [1/10], Batch [301/469], Loss: 142.5435\n",
      "Epoch [1/10], Batch [401/469], Loss: 134.6329\n",
      "Epoch [2/10], Batch [1/469], Loss: 125.4808\n",
      "Epoch [2/10], Batch [101/469], Loss: 127.6829\n",
      "Epoch [2/10], Batch [201/469], Loss: 125.1700\n",
      "Epoch [2/10], Batch [301/469], Loss: 118.9432\n",
      "Epoch [2/10], Batch [401/469], Loss: 113.4957\n",
      "Epoch [3/10], Batch [1/469], Loss: 119.2539\n",
      "Epoch [3/10], Batch [101/469], Loss: 114.0507\n",
      "Epoch [3/10], Batch [201/469], Loss: 111.7247\n",
      "Epoch [3/10], Batch [301/469], Loss: 111.7111\n",
      "Epoch [3/10], Batch [401/469], Loss: 116.4308\n",
      "Epoch [4/10], Batch [1/469], Loss: 110.2689\n",
      "Epoch [4/10], Batch [101/469], Loss: 112.5125\n",
      "Epoch [4/10], Batch [201/469], Loss: 108.3331\n",
      "Epoch [4/10], Batch [301/469], Loss: 112.6111\n",
      "Epoch [4/10], Batch [401/469], Loss: 114.8788\n",
      "Epoch [5/10], Batch [1/469], Loss: 109.8297\n",
      "Epoch [5/10], Batch [101/469], Loss: 109.5776\n",
      "Epoch [5/10], Batch [201/469], Loss: 108.1693\n",
      "Epoch [5/10], Batch [301/469], Loss: 113.9059\n",
      "Epoch [5/10], Batch [401/469], Loss: 108.0495\n",
      "Epoch [6/10], Batch [1/469], Loss: 109.6386\n",
      "Epoch [6/10], Batch [101/469], Loss: 107.6222\n",
      "Epoch [6/10], Batch [201/469], Loss: 109.5758\n",
      "Epoch [6/10], Batch [301/469], Loss: 107.5222\n",
      "Epoch [6/10], Batch [401/469], Loss: 106.1394\n",
      "Epoch [7/10], Batch [1/469], Loss: 105.6925\n",
      "Epoch [7/10], Batch [101/469], Loss: 105.7127\n",
      "Epoch [7/10], Batch [201/469], Loss: 109.7852\n",
      "Epoch [7/10], Batch [301/469], Loss: 109.5416\n",
      "Epoch [7/10], Batch [401/469], Loss: 110.1814\n",
      "Epoch [8/10], Batch [1/469], Loss: 103.9183\n",
      "Epoch [8/10], Batch [101/469], Loss: 107.9038\n",
      "Epoch [8/10], Batch [201/469], Loss: 106.4200\n",
      "Epoch [8/10], Batch [301/469], Loss: 105.3793\n",
      "Epoch [8/10], Batch [401/469], Loss: 107.8853\n",
      "Epoch [9/10], Batch [1/469], Loss: 107.2790\n",
      "Epoch [9/10], Batch [101/469], Loss: 106.8895\n",
      "Epoch [9/10], Batch [201/469], Loss: 107.5416\n",
      "Epoch [9/10], Batch [301/469], Loss: 106.5808\n",
      "Epoch [9/10], Batch [401/469], Loss: 109.3972\n",
      "Epoch [10/10], Batch [1/469], Loss: 107.4492\n",
      "Epoch [10/10], Batch [101/469], Loss: 104.0721\n",
      "Epoch [10/10], Batch [201/469], Loss: 104.4056\n",
      "Epoch [10/10], Batch [301/469], Loss: 110.6643\n",
      "Epoch [10/10], Batch [401/469], Loss: 110.1294\n"
     ]
    }
   ],
   "source": [
    "import torch\n",
    "from torch import nn, optim\n",
    "from torchvision.datasets import ImageFolder\n",
    "from torch.utils.data import DataLoader\n",
    "from torchvision.transforms import Compose, Resize, ToTensor\n",
    "import cv2\n",
    "import numpy as np\n",
    "\n",
    "# Define the autoencoder model\n",
    "class Autoencoder(nn.Module):\n",
    "    def __init__(self, latent_dim=128):\n",
    "        super().__init__()\n",
    "        self.latent_dim = latent_dim\n",
    "\n",
    "        # Encoder layers\n",
    "        self.encoder = nn.Sequential(\n",
    "            nn.Conv2d(6, 16, kernel_size=3, stride=2, padding=1),\n",
    "            nn.ReLU(),\n",
    "            nn.Conv2d(16, 32, kernel_size=3, stride=2, padding=1),\n",
    "            nn.ReLU(),\n",
    "            nn.Conv2d(32, 64, kernel_size=3, stride=2, padding=1),\n",
    "            nn.ReLU(),\n",
    "            nn.Conv2d(64, 128, kernel_size=3, stride=2, padding=1),\n",
    "            nn.ReLU(),\n",
    "            nn.Conv2d(128, 256, kernel_size=3, stride=2, padding=1),\n",
    "            nn.ReLU(),\n",
    "            nn.Flatten(),\n",
    "            nn.Linear(256 * 4 * 4, latent_dim)\n",
    "        )\n",
    "\n",
    "        # Decoder layers\n",
    "        self.decoder = nn.Sequential(\n",
    "            nn.Linear(latent_dim, 256 * 4 * 4),\n",
    "            nn.Unflatten(-1, (256, 4, 4)),\n",
    "            nn.ConvTranspose2d(256, 128, kernel_size=4, stride=2, padding=1),\n",
    "            nn.ReLU(),\n",
    "            nn.ConvTranspose2d(128, 64, kernel_size=4, stride=2, padding=1),\n",
    "            nn.ReLU(),\n",
    "            nn.ConvTranspose2d(64, 32, kernel_size=4, stride=2, padding=1),\n",
    "            nn.ReLU(),\n",
    "            nn.ConvTranspose2d(32, 16, kernel_size=4, stride=2, padding=1),\n",
    "            nn.ReLU(),\n",
    "            nn.ConvTranspose2d(16, 3, kernel_size=3, stride=1, padding=1),\n",
    "            nn.Sigmoid()\n",
    "        )\n",
    "\n",
    "    def encode(self, x):\n",
    "        return self.encoder(x)\n",
    "\n",
    "    def decode(self, x):\n",
    "        return self.decoder(x)\n",
    "\n",
    "    def forward(self, x1, x2):\n",
    "        z1 = self.encode(x1)\n",
    "        z2 = self.encode(x2)\n",
    "        z = (z1 + z2) / 2  # Interpolate latent vectors\n",
    "        return self.decode(z), z\n",
    "\n",
    "\n",
    "# Define the training function\n",
    "def train(model, dataloader, optimizer, criterion, num_epochs=10, device='cpu'):\n",
    "    model.train()\n",
    "    model.to(device)\n",
    "\n",
    "    for epoch in range(num_epochs):\n",
    "        running_loss = 0.0\n",
    "        for i, (inputs, _) in enumerate(dataloader):\n",
    "            inputs = inputs.to(device)\n",
    "\n",
    "            optimizer.zero_grad()\n",
    "\n",
    "            outputs, _ = model(inputs)\n",
    "            loss = criterion(outputs, inputs)\n",
    "            loss.backward()\n",
    "\n",
    "            optimizer.step()\n",
    "\n",
    "            running_loss += loss.item()\n",
    "            if i % 10 == 9:\n",
    "                print(f\"Epoch {epoch+1}, Batch {i+1}/{len(dataloader)}, Loss: {running_loss/10:.5f}\")\n",
    "                running_loss = 0.0\n",
    "\n",
    "# Load the video as a dataset of frames\n",
    "video_filename = 'input_video.mkv'\n",
    "video_dataset = ImageFolder(video_filename, transform=Compose([Resize((256, 256)), ToTensor()]))\n",
    "\n",
    "# Create a data loader for the video dataset\n",
    "video_dataloader = DataLoader(video_dataset, batch_size=32, shuffle=True)\n",
    "\n",
    "# Define the autoencoder model\n",
    "autoencoder = Autoencoder()\n",
    "\n"
   ]
  },
  {
   "cell_type": "code",
   "execution_count": null,
   "outputs": [],
   "source": [],
   "metadata": {
    "collapsed": false
   }
  }
 ],
 "metadata": {
  "kernelspec": {
   "display_name": "Python 3",
   "language": "python",
   "name": "python3"
  },
  "language_info": {
   "codemirror_mode": {
    "name": "ipython",
    "version": 2
   },
   "file_extension": ".py",
   "mimetype": "text/x-python",
   "name": "python",
   "nbconvert_exporter": "python",
   "pygments_lexer": "ipython2",
   "version": "2.7.6"
  }
 },
 "nbformat": 4,
 "nbformat_minor": 0
}
